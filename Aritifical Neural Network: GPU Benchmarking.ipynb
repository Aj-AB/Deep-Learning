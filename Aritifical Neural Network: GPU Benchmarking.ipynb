{
  "nbformat": 4,
  "nbformat_minor": 0,
  "metadata": {
    "colab": {
      "name": "Untitled0.ipynb",
      "provenance": []
    },
    "kernelspec": {
      "name": "python3",
      "display_name": "Python 3"
    },
    "language_info": {
      "name": "python"
    },
    "accelerator": "GPU"
  },
  "cells": [
    {
      "cell_type": "code",
      "execution_count": 4,
      "metadata": {
        "id": "X9XcLWIxFKdr"
      },
      "outputs": [],
      "source": [
        "import os\n",
        "os.environ[\"CUDA_VISIBLE_DEVICES\"]=\"4\""
      ]
    },
    {
      "cell_type": "code",
      "source": [
        "import tensorflow as tf\n",
        "from tensorflow import keras\n",
        "import numpy as np"
      ],
      "metadata": {
        "id": "-w_gdaor--6Y"
      },
      "execution_count": 5,
      "outputs": []
    },
    {
      "cell_type": "code",
      "source": [
        "tf.config.experimental.list_physical_devices()"
      ],
      "metadata": {
        "colab": {
          "base_uri": "https://localhost:8080/"
        },
        "id": "WZ7AgUzO_FGX",
        "outputId": "d972be5b-6eea-4fee-dcdb-913f3d2f74b4"
      },
      "execution_count": 6,
      "outputs": [
        {
          "output_type": "execute_result",
          "data": {
            "text/plain": [
              "[PhysicalDevice(name='/physical_device:CPU:0', device_type='CPU'),\n",
              " PhysicalDevice(name='/physical_device:GPU:0', device_type='GPU')]"
            ]
          },
          "metadata": {},
          "execution_count": 6
        }
      ]
    },
    {
      "cell_type": "code",
      "source": [
        "tf.__version__"
      ],
      "metadata": {
        "colab": {
          "base_uri": "https://localhost:8080/",
          "height": 35
        },
        "id": "312wmwoz_LHE",
        "outputId": "93b9be42-d073-44de-c02c-2a79f0a365f1"
      },
      "execution_count": 7,
      "outputs": [
        {
          "output_type": "execute_result",
          "data": {
            "text/plain": [
              "'2.8.0'"
            ],
            "application/vnd.google.colaboratory.intrinsic+json": {
              "type": "string"
            }
          },
          "metadata": {},
          "execution_count": 7
        }
      ]
    },
    {
      "cell_type": "code",
      "source": [
        "tf.test.is_built_with_cuda()"
      ],
      "metadata": {
        "colab": {
          "base_uri": "https://localhost:8080/"
        },
        "id": "2vLISB2g_OIT",
        "outputId": "b30acb7c-9027-4cd5-e3b5-4dd95131cb3a"
      },
      "execution_count": 8,
      "outputs": [
        {
          "output_type": "execute_result",
          "data": {
            "text/plain": [
              "True"
            ]
          },
          "metadata": {},
          "execution_count": 8
        }
      ]
    },
    {
      "cell_type": "code",
      "source": [
        "#Load the dataset\n",
        "(X_train, y_train), (X_test,y_test) = tf.keras.datasets.cifar10.load_data()"
      ],
      "metadata": {
        "colab": {
          "base_uri": "https://localhost:8080/"
        },
        "id": "kj1sMQP6_R4X",
        "outputId": "91c23f8c-5005-4321-dacd-d1ea2edf078b"
      },
      "execution_count": 11,
      "outputs": [
        {
          "output_type": "stream",
          "name": "stdout",
          "text": [
            "Downloading data from https://www.cs.toronto.edu/~kriz/cifar-10-python.tar.gz\n",
            "170500096/170498071 [==============================] - 2s 0us/step\n",
            "170508288/170498071 [==============================] - 2s 0us/step\n"
          ]
        }
      ]
    },
    {
      "cell_type": "code",
      "source": [
        "X_train.shape"
      ],
      "metadata": {
        "colab": {
          "base_uri": "https://localhost:8080/"
        },
        "id": "pagEWth9_g83",
        "outputId": "3e8dccfe-7f4a-4fa1-d929-d9a4d85302e1"
      },
      "execution_count": 12,
      "outputs": [
        {
          "output_type": "execute_result",
          "data": {
            "text/plain": [
              "(50000, 32, 32, 3)"
            ]
          },
          "metadata": {},
          "execution_count": 12
        }
      ]
    },
    {
      "cell_type": "code",
      "source": [
        "y_train.shape\n"
      ],
      "metadata": {
        "colab": {
          "base_uri": "https://localhost:8080/"
        },
        "id": "nwNg5MTS_kqs",
        "outputId": "00dc69b8-175a-441e-8051-da5d9b13d2af"
      },
      "execution_count": 13,
      "outputs": [
        {
          "output_type": "execute_result",
          "data": {
            "text/plain": [
              "(50000, 1)"
            ]
          },
          "metadata": {},
          "execution_count": 13
        }
      ]
    },
    {
      "cell_type": "code",
      "source": [
        "classes = [\"airplane\",\"automobile\",\"bird\",\"cat\",\"deer\",\"dog\",\"frog\",\"horse\",\"ship\",\"truck\"]"
      ],
      "metadata": {
        "id": "dn7pJ2z2_m2x"
      },
      "execution_count": 14,
      "outputs": []
    },
    {
      "cell_type": "code",
      "source": [
        "classes[y_train[3][0]]"
      ],
      "metadata": {
        "colab": {
          "base_uri": "https://localhost:8080/",
          "height": 35
        },
        "id": "LZ5u6lvr_pz8",
        "outputId": "9d546483-0e46-4a80-bcb1-d78189cc5836"
      },
      "execution_count": 15,
      "outputs": [
        {
          "output_type": "execute_result",
          "data": {
            "text/plain": [
              "'deer'"
            ],
            "application/vnd.google.colaboratory.intrinsic+json": {
              "type": "string"
            }
          },
          "metadata": {},
          "execution_count": 15
        }
      ]
    },
    {
      "cell_type": "code",
      "source": [
        "##Preprocessing: Scale images\n",
        "X_train_scaled = X_train / 255\n",
        "X_test_scaled = X_test / 255"
      ],
      "metadata": {
        "id": "bne5KzAEADfX"
      },
      "execution_count": 16,
      "outputs": []
    },
    {
      "cell_type": "code",
      "source": [
        "y_train_categorical = keras.utils.to_categorical(\n",
        "    y_train, num_classes=10, dtype='float32'\n",
        ")\n",
        "y_test_categorical = keras.utils.to_categorical(\n",
        "    y_test, num_classes=10, dtype='float32'\n",
        ")"
      ],
      "metadata": {
        "id": "CqkNFDhDANIn"
      },
      "execution_count": 17,
      "outputs": []
    },
    {
      "cell_type": "code",
      "source": [
        "y_train[0:5]"
      ],
      "metadata": {
        "colab": {
          "base_uri": "https://localhost:8080/"
        },
        "id": "St49bq7NAfhX",
        "outputId": "6e5286b4-8664-4623-c0e0-c5f2c637523b"
      },
      "execution_count": 18,
      "outputs": [
        {
          "output_type": "execute_result",
          "data": {
            "text/plain": [
              "array([[6],\n",
              "       [9],\n",
              "       [9],\n",
              "       [4],\n",
              "       [1]], dtype=uint8)"
            ]
          },
          "metadata": {},
          "execution_count": 18
        }
      ]
    },
    {
      "cell_type": "code",
      "source": [
        "y_train_categorical"
      ],
      "metadata": {
        "colab": {
          "base_uri": "https://localhost:8080/"
        },
        "id": "dJjoDArtATJw",
        "outputId": "ccc73668-b1a1-437b-bda1-a786b57d1fb3"
      },
      "execution_count": 19,
      "outputs": [
        {
          "output_type": "execute_result",
          "data": {
            "text/plain": [
              "array([[0., 0., 0., ..., 0., 0., 0.],\n",
              "       [0., 0., 0., ..., 0., 0., 1.],\n",
              "       [0., 0., 0., ..., 0., 0., 1.],\n",
              "       ...,\n",
              "       [0., 0., 0., ..., 0., 0., 1.],\n",
              "       [0., 1., 0., ..., 0., 0., 0.],\n",
              "       [0., 1., 0., ..., 0., 0., 0.]], dtype=float32)"
            ]
          },
          "metadata": {},
          "execution_count": 19
        }
      ]
    },
    {
      "cell_type": "code",
      "source": [
        "##Model building and training\n",
        "def get_model():\n",
        "    model = keras.Sequential([\n",
        "            keras.layers.Flatten(input_shape=(32,32,3)),\n",
        "            keras.layers.Dense(3000, activation='relu'),\n",
        "            keras.layers.Dense(1000, activation='relu'),\n",
        "            keras.layers.Dense(10, activation='sigmoid')    \n",
        "        ])\n",
        "\n",
        "    model.compile(optimizer='SGD',\n",
        "                  loss='categorical_crossentropy',\n",
        "                  metrics=['accuracy'])\n",
        "    return model"
      ],
      "metadata": {
        "id": "dO_JOqOvAVfw"
      },
      "execution_count": 20,
      "outputs": []
    },
    {
      "cell_type": "code",
      "source": [
        "train_tf_dataset = tf.data.Dataset.from_tensor_slices((X_train_scaled, y_train_categorical))\n",
        "test_tf_dataset = tf.data.Dataset.from_tensor_slices((X_test_scaled, y_test_categorical))"
      ],
      "metadata": {
        "id": "FUrN_UVaAsbW"
      },
      "execution_count": 21,
      "outputs": []
    },
    {
      "cell_type": "code",
      "source": [
        "strategy = tf.distribute.MirroredStrategy()"
      ],
      "metadata": {
        "colab": {
          "base_uri": "https://localhost:8080/"
        },
        "id": "Hs5NjjCEAzTp",
        "outputId": "96e97e56-ab83-44ff-8ee5-0de0797e655a"
      },
      "execution_count": 22,
      "outputs": [
        {
          "output_type": "stream",
          "name": "stdout",
          "text": [
            "INFO:tensorflow:Using MirroredStrategy with devices ('/job:localhost/replica:0/task:0/device:GPU:0',)\n"
          ]
        }
      ]
    },
    {
      "cell_type": "code",
      "source": [
        "strategy.num_replicas_in_sync\n"
      ],
      "metadata": {
        "colab": {
          "base_uri": "https://localhost:8080/"
        },
        "id": "wKrIO2VcBAvm",
        "outputId": "dc61a106-a845-41ce-9a24-1b4d92712c87"
      },
      "execution_count": 23,
      "outputs": [
        {
          "output_type": "execute_result",
          "data": {
            "text/plain": [
              "1"
            ]
          },
          "metadata": {},
          "execution_count": 23
        }
      ]
    },
    {
      "cell_type": "code",
      "source": [
        "BATCH_SIZE_PER_REPLICA = 250\n",
        "BATCH_SIZE = BATCH_SIZE_PER_REPLICA * strategy.num_replicas_in_sync\n",
        "\n",
        "\n",
        "train_dataset = train_tf_dataset.batch(BATCH_SIZE).prefetch(tf.data.AUTOTUNE)\n",
        "test_dataset = test_tf_dataset.batch(BATCH_SIZE)"
      ],
      "metadata": {
        "id": "Xq9BsMyKBE1T"
      },
      "execution_count": 24,
      "outputs": []
    },
    {
      "cell_type": "code",
      "source": [
        "%%timeit -n1 -r1 \n",
        "with strategy.scope():\n",
        "    gpu_model = get_model()\n",
        "    gpu_model.fit(train_dataset, epochs=50)"
      ],
      "metadata": {
        "colab": {
          "base_uri": "https://localhost:8080/"
        },
        "id": "FQUljjahBOuK",
        "outputId": "205c89a8-fa66-4e50-e492-e2b07b7e8259"
      },
      "execution_count": null,
      "outputs": [
        {
          "output_type": "stream",
          "name": "stdout",
          "text": [
            "Epoch 1/50\n",
            "200/200 [==============================] - 49s 234ms/step - loss: 1.9842 - accuracy: 0.2958\n",
            "Epoch 2/50\n",
            "200/200 [==============================] - 47s 234ms/step - loss: 1.8198 - accuracy: 0.3625\n",
            "Epoch 3/50\n",
            "200/200 [==============================] - 47s 235ms/step - loss: 1.7578 - accuracy: 0.3877\n",
            "Epoch 4/50\n",
            "200/200 [==============================] - 47s 235ms/step - loss: 1.7146 - accuracy: 0.4052\n",
            "Epoch 5/50\n",
            "200/200 [==============================] - 47s 234ms/step - loss: 1.6803 - accuracy: 0.4155\n",
            "Epoch 6/50\n",
            "200/200 [==============================] - 47s 233ms/step - loss: 1.6513 - accuracy: 0.4254\n",
            "Epoch 7/50\n",
            "200/200 [==============================] - 47s 234ms/step - loss: 1.6261 - accuracy: 0.4352\n",
            "Epoch 8/50\n",
            "200/200 [==============================] - 47s 234ms/step - loss: 1.6038 - accuracy: 0.4434\n",
            "Epoch 9/50\n",
            "200/200 [==============================] - 47s 234ms/step - loss: 1.5838 - accuracy: 0.4504\n",
            "Epoch 10/50\n",
            "200/200 [==============================] - 47s 236ms/step - loss: 1.5657 - accuracy: 0.4564\n",
            "Epoch 11/50\n",
            "200/200 [==============================] - 47s 237ms/step - loss: 1.5491 - accuracy: 0.4620\n",
            "Epoch 12/50\n",
            "200/200 [==============================] - 47s 237ms/step - loss: 1.5338 - accuracy: 0.4670\n",
            "Epoch 13/50\n",
            "200/200 [==============================] - 47s 237ms/step - loss: 1.5194 - accuracy: 0.4721\n",
            "Epoch 14/50\n",
            "200/200 [==============================] - 48s 238ms/step - loss: 1.5058 - accuracy: 0.4766\n",
            "Epoch 15/50\n",
            "200/200 [==============================] - 48s 240ms/step - loss: 1.4929 - accuracy: 0.4815\n",
            "Epoch 16/50\n",
            "200/200 [==============================] - 47s 237ms/step - loss: 1.4806 - accuracy: 0.4862\n",
            "Epoch 17/50\n",
            "200/200 [==============================] - 48s 238ms/step - loss: 1.4689 - accuracy: 0.4907\n",
            "Epoch 18/50\n",
            "200/200 [==============================] - 48s 239ms/step - loss: 1.4574 - accuracy: 0.4947\n",
            "Epoch 19/50\n",
            "200/200 [==============================] - 48s 241ms/step - loss: 1.4464 - accuracy: 0.4982\n",
            "Epoch 20/50\n",
            "200/200 [==============================] - 48s 238ms/step - loss: 1.4357 - accuracy: 0.5028\n",
            "Epoch 21/50\n",
            "200/200 [==============================] - 48s 241ms/step - loss: 1.4252 - accuracy: 0.5063\n",
            "Epoch 22/50\n",
            "200/200 [==============================] - 49s 246ms/step - loss: 1.4150 - accuracy: 0.5101\n",
            "Epoch 23/50\n",
            "200/200 [==============================] - 49s 243ms/step - loss: 1.4051 - accuracy: 0.5140\n",
            "Epoch 24/50\n",
            "200/200 [==============================] - 49s 243ms/step - loss: 1.3953 - accuracy: 0.5172\n",
            "Epoch 25/50\n",
            "200/200 [==============================] - 49s 244ms/step - loss: 1.3857 - accuracy: 0.5209\n",
            "Epoch 26/50\n",
            "200/200 [==============================] - 48s 242ms/step - loss: 1.3765 - accuracy: 0.5238\n",
            "Epoch 27/50\n"
          ]
        }
      ]
    },
    {
      "cell_type": "code",
      "source": [
        "%%timeit -n1 -r1 \n",
        "with tf.device('/CPU:0'):\n",
        "    cpu_model = get_model()\n",
        "    cpu_model.fit(train_dataset, epochs=50)"
      ],
      "metadata": {
        "colab": {
          "base_uri": "https://localhost:8080/"
        },
        "id": "hgWzME0jBSFn",
        "outputId": "ad23ccb9-e6aa-498f-d586-4896d8ac4c90"
      },
      "execution_count": 25,
      "outputs": [
        {
          "output_type": "stream",
          "name": "stdout",
          "text": [
            "Epoch 1/50\n",
            "200/200 [==============================] - 59s 289ms/step - loss: 1.9795 - accuracy: 0.3000\n",
            "Epoch 2/50\n",
            "200/200 [==============================] - 58s 289ms/step - loss: 1.8159 - accuracy: 0.3636\n",
            "Epoch 3/50\n",
            "200/200 [==============================] - 59s 292ms/step - loss: 1.7545 - accuracy: 0.3875\n",
            "Epoch 4/50\n",
            "200/200 [==============================] - 59s 293ms/step - loss: 1.7116 - accuracy: 0.4039\n",
            "Epoch 5/50\n",
            "200/200 [==============================] - 59s 293ms/step - loss: 1.6770 - accuracy: 0.4169\n",
            "Epoch 6/50\n",
            "200/200 [==============================] - 59s 293ms/step - loss: 1.6478 - accuracy: 0.4273\n",
            "Epoch 7/50\n",
            "200/200 [==============================] - 59s 294ms/step - loss: 1.6224 - accuracy: 0.4366\n",
            "Epoch 8/50\n",
            "200/200 [==============================] - 59s 296ms/step - loss: 1.5999 - accuracy: 0.4449\n",
            "Epoch 9/50\n",
            "200/200 [==============================] - 59s 296ms/step - loss: 1.5798 - accuracy: 0.4519\n",
            "Epoch 10/50\n",
            "200/200 [==============================] - 59s 296ms/step - loss: 1.5616 - accuracy: 0.4579\n",
            "Epoch 11/50\n",
            "200/200 [==============================] - 59s 296ms/step - loss: 1.5450 - accuracy: 0.4634\n",
            "Epoch 12/50\n",
            "200/200 [==============================] - 59s 297ms/step - loss: 1.5296 - accuracy: 0.4692\n",
            "Epoch 13/50\n",
            "200/200 [==============================] - 59s 295ms/step - loss: 1.5153 - accuracy: 0.4735\n",
            "Epoch 14/50\n",
            "200/200 [==============================] - 59s 295ms/step - loss: 1.5019 - accuracy: 0.4786\n",
            "Epoch 15/50\n",
            "200/200 [==============================] - 59s 296ms/step - loss: 1.4890 - accuracy: 0.4831\n",
            "Epoch 16/50\n",
            "200/200 [==============================] - 59s 295ms/step - loss: 1.4767 - accuracy: 0.4874\n",
            "Epoch 17/50\n",
            "200/200 [==============================] - 59s 296ms/step - loss: 1.4648 - accuracy: 0.4917\n",
            "Epoch 18/50\n",
            "200/200 [==============================] - 58s 291ms/step - loss: 1.4532 - accuracy: 0.4959\n",
            "Epoch 19/50\n",
            "200/200 [==============================] - 58s 292ms/step - loss: 1.4421 - accuracy: 0.5001\n",
            "Epoch 20/50\n",
            "200/200 [==============================] - 58s 291ms/step - loss: 1.4313 - accuracy: 0.5037\n",
            "Epoch 21/50\n",
            "200/200 [==============================] - 59s 297ms/step - loss: 1.4208 - accuracy: 0.5076\n",
            "Epoch 22/50\n",
            "200/200 [==============================] - 59s 297ms/step - loss: 1.4105 - accuracy: 0.5111\n",
            "Epoch 23/50\n",
            "200/200 [==============================] - 59s 296ms/step - loss: 1.4005 - accuracy: 0.5147\n",
            "Epoch 24/50\n",
            "200/200 [==============================] - 58s 292ms/step - loss: 1.3906 - accuracy: 0.5185\n",
            "Epoch 25/50\n",
            "200/200 [==============================] - 59s 295ms/step - loss: 1.3809 - accuracy: 0.5218\n",
            "Epoch 26/50\n",
            "200/200 [==============================] - 59s 295ms/step - loss: 1.3714 - accuracy: 0.5249\n",
            "Epoch 27/50\n",
            "200/200 [==============================] - 59s 295ms/step - loss: 1.3622 - accuracy: 0.5282\n",
            "Epoch 28/50\n",
            "200/200 [==============================] - 59s 296ms/step - loss: 1.3531 - accuracy: 0.5312\n",
            "Epoch 29/50\n",
            "200/200 [==============================] - 60s 298ms/step - loss: 1.3444 - accuracy: 0.5348\n",
            "Epoch 30/50\n",
            "200/200 [==============================] - 60s 298ms/step - loss: 1.3355 - accuracy: 0.5381\n",
            "Epoch 31/50\n",
            "200/200 [==============================] - 59s 295ms/step - loss: 1.3270 - accuracy: 0.5413\n",
            "Epoch 32/50\n",
            "200/200 [==============================] - 60s 301ms/step - loss: 1.3185 - accuracy: 0.5446\n",
            "Epoch 33/50\n",
            "200/200 [==============================] - 60s 299ms/step - loss: 1.3102 - accuracy: 0.5474\n",
            "Epoch 34/50\n",
            "200/200 [==============================] - 60s 301ms/step - loss: 1.3021 - accuracy: 0.5500\n",
            "Epoch 35/50\n",
            "200/200 [==============================] - 60s 301ms/step - loss: 1.2943 - accuracy: 0.5531\n",
            "Epoch 36/50\n",
            "200/200 [==============================] - 60s 300ms/step - loss: 1.2863 - accuracy: 0.5558\n",
            "Epoch 37/50\n",
            "200/200 [==============================] - 60s 301ms/step - loss: 1.2786 - accuracy: 0.5586\n",
            "Epoch 38/50\n",
            "200/200 [==============================] - 60s 302ms/step - loss: 1.2709 - accuracy: 0.5616\n",
            "Epoch 39/50\n",
            "200/200 [==============================] - 60s 300ms/step - loss: 1.2634 - accuracy: 0.5641\n",
            "Epoch 40/50\n",
            "200/200 [==============================] - 61s 303ms/step - loss: 1.2557 - accuracy: 0.5666\n",
            "Epoch 41/50\n",
            "200/200 [==============================] - 61s 303ms/step - loss: 1.2485 - accuracy: 0.5692\n",
            "Epoch 42/50\n",
            "200/200 [==============================] - 61s 304ms/step - loss: 1.2412 - accuracy: 0.5717\n",
            "Epoch 43/50\n",
            "200/200 [==============================] - 61s 304ms/step - loss: 1.2340 - accuracy: 0.5737\n",
            "Epoch 44/50\n",
            "200/200 [==============================] - 61s 303ms/step - loss: 1.2269 - accuracy: 0.5762\n",
            "Epoch 45/50\n",
            "200/200 [==============================] - 61s 303ms/step - loss: 1.2198 - accuracy: 0.5788\n",
            "Epoch 46/50\n",
            "200/200 [==============================] - 61s 304ms/step - loss: 1.2128 - accuracy: 0.5816\n",
            "Epoch 47/50\n",
            "200/200 [==============================] - 60s 302ms/step - loss: 1.2060 - accuracy: 0.5842\n",
            "Epoch 48/50\n",
            "200/200 [==============================] - 60s 302ms/step - loss: 1.1993 - accuracy: 0.5870\n",
            "Epoch 49/50\n",
            "200/200 [==============================] - 60s 302ms/step - loss: 1.1925 - accuracy: 0.5898\n",
            "Epoch 50/50\n",
            "200/200 [==============================] - 59s 294ms/step - loss: 1.1859 - accuracy: 0.5922\n",
            "1 loop, best of 1: 1h 2min 5s per loop\n"
          ]
        }
      ]
    },
    {
      "cell_type": "code",
      "source": [
        ""
      ],
      "metadata": {
        "id": "A8lacfAMY1-A"
      },
      "execution_count": null,
      "outputs": []
    }
  ]
}