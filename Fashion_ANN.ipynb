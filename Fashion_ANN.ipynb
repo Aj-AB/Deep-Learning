{
  "nbformat": 4,
  "nbformat_minor": 0,
  "metadata": {
    "colab": {
      "name": "Untitled0.ipynb",
      "provenance": [],
      "collapsed_sections": []
    },
    "kernelspec": {
      "name": "python3",
      "display_name": "Python 3"
    },
    "language_info": {
      "name": "python"
    }
  },
  "cells": [
    {
      "cell_type": "code",
      "execution_count": null,
      "metadata": {
        "id": "zqS7_JoGr5TM"
      },
      "outputs": [],
      "source": [
        "from tensorflow import keras"
      ]
    },
    {
      "cell_type": "code",
      "source": [
        "fashion_mnist = keras.datasets.fashion_mnist\n",
        "(X_train_full, y_train_full), (X_test, y_test) = fashion_mnist.load_data()"
      ],
      "metadata": {
        "colab": {
          "base_uri": "https://localhost:8080/"
        },
        "id": "c-qjImDur8_s",
        "outputId": "4ac62366-2313-4daa-808f-d3a5db12754f"
      },
      "execution_count": null,
      "outputs": [
        {
          "output_type": "stream",
          "name": "stdout",
          "text": [
            "Downloading data from https://storage.googleapis.com/tensorflow/tf-keras-datasets/train-labels-idx1-ubyte.gz\n",
            "32768/29515 [=================================] - 0s 0us/step\n",
            "40960/29515 [=========================================] - 0s 0us/step\n",
            "Downloading data from https://storage.googleapis.com/tensorflow/tf-keras-datasets/train-images-idx3-ubyte.gz\n",
            "26427392/26421880 [==============================] - 0s 0us/step\n",
            "26435584/26421880 [==============================] - 0s 0us/step\n",
            "Downloading data from https://storage.googleapis.com/tensorflow/tf-keras-datasets/t10k-labels-idx1-ubyte.gz\n",
            "16384/5148 [===============================================================================================] - 0s 0us/step\n",
            "Downloading data from https://storage.googleapis.com/tensorflow/tf-keras-datasets/t10k-images-idx3-ubyte.gz\n",
            "4423680/4422102 [==============================] - 0s 0us/step\n",
            "4431872/4422102 [==============================] - 0s 0us/step\n"
          ]
        }
      ]
    },
    {
      "cell_type": "code",
      "source": [
        "X_train_full.shape"
      ],
      "metadata": {
        "colab": {
          "base_uri": "https://localhost:8080/"
        },
        "id": "EIMeNU4gsC2e",
        "outputId": "87caea0c-4fa1-4bea-9ecd-61a6b810f68d"
      },
      "execution_count": null,
      "outputs": [
        {
          "output_type": "execute_result",
          "data": {
            "text/plain": [
              "(60000, 28, 28)"
            ]
          },
          "metadata": {},
          "execution_count": 7
        }
      ]
    },
    {
      "cell_type": "code",
      "source": [
        "X_valid, X_train = X_train_full[:5000] / 255.0, X_train_full[5000:] / 255.0\n",
        "y_valid, y_train = y_train_full[:5000], y_train_full[5000:]"
      ],
      "metadata": {
        "id": "iZpT97XDsP0L"
      },
      "execution_count": null,
      "outputs": []
    },
    {
      "cell_type": "code",
      "source": [
        "fashion_mnist"
      ],
      "metadata": {
        "colab": {
          "base_uri": "https://localhost:8080/"
        },
        "id": "Lanni6ln8_Kg",
        "outputId": "074813e0-2caa-4810-b2c4-ba821424f117"
      },
      "execution_count": null,
      "outputs": [
        {
          "output_type": "execute_result",
          "data": {
            "text/plain": [
              "<module 'keras.api._v2.keras.datasets.fashion_mnist' from '/usr/local/lib/python3.7/dist-packages/keras/api/_v2/keras/datasets/fashion_mnist/__init__.py'>"
            ]
          },
          "metadata": {},
          "execution_count": 10
        }
      ]
    },
    {
      "cell_type": "code",
      "source": [
        "class_names = [\"T-shirt/top\", \"Trouser\", \"Pullover\", \"Dress\", \"Coat\",\n",
        "\"Sandal\", \"Shirt\", \"Sneaker\", \"Bag\", \"Ankle boot\"]"
      ],
      "metadata": {
        "id": "5JjpGerd9G-_"
      },
      "execution_count": null,
      "outputs": []
    },
    {
      "cell_type": "code",
      "source": [
        "class_names[y_train[2]]"
      ],
      "metadata": {
        "colab": {
          "base_uri": "https://localhost:8080/",
          "height": 35
        },
        "id": "X-TPZmnE9ZR2",
        "outputId": "54310cbc-a643-4506-9c91-fb1b184223a9"
      },
      "execution_count": null,
      "outputs": [
        {
          "output_type": "execute_result",
          "data": {
            "text/plain": [
              "'Sneaker'"
            ],
            "application/vnd.google.colaboratory.intrinsic+json": {
              "type": "string"
            }
          },
          "metadata": {},
          "execution_count": 43
        }
      ]
    },
    {
      "cell_type": "code",
      "source": [
        "model = keras.models.Sequential()\n",
        "model.add(keras.layers.Flatten(input_shape=[28, 28]))\n",
        "model.add(keras.layers.Dense(300, activation=\"relu\"))\n",
        "model.add(keras.layers.Dense(100, activation=\"relu\"))\n",
        "model.add(keras.layers.Dense(10, activation=\"softmax\"))"
      ],
      "metadata": {
        "id": "oN5ZXZ5x9btm"
      },
      "execution_count": null,
      "outputs": []
    },
    {
      "cell_type": "code",
      "source": [
        "from tensorflow.keras.layers import Dense\n",
        "model = keras.models.Sequential([\n",
        "keras.layers.Flatten(input_shape=[28, 28]),\n",
        "keras.layers.Dense(300, activation=\"relu\"),\n",
        "keras.layers.Dense(100, activation=\"relu\"),\n",
        "keras.layers.Dense(10, activation=\"softmax\")\n",
        "])"
      ],
      "metadata": {
        "id": "sKHzIR9G9vAC"
      },
      "execution_count": null,
      "outputs": []
    },
    {
      "cell_type": "code",
      "source": [
        "model.compile(loss=\"sparse_categorical_crossentropy\",\n",
        "optimizer=\"adam\",\n",
        "metrics=[\"accuracy\"])"
      ],
      "metadata": {
        "id": "X3S_zWDP-rUY"
      },
      "execution_count": null,
      "outputs": []
    },
    {
      "cell_type": "code",
      "source": [
        "history = model.fit(X_train, y_train, epochs=30,\n",
        "validation_data=(X_valid, y_valid))"
      ],
      "metadata": {
        "colab": {
          "base_uri": "https://localhost:8080/"
        },
        "id": "XTo2vXueEDHW",
        "outputId": "88fab641-2861-4119-d855-e2536d18a3f9"
      },
      "execution_count": null,
      "outputs": [
        {
          "output_type": "stream",
          "name": "stdout",
          "text": [
            "Epoch 1/30\n",
            "1719/1719 [==============================] - 8s 5ms/step - loss: 0.4869 - accuracy: 0.8263 - val_loss: 0.3922 - val_accuracy: 0.8588\n",
            "Epoch 2/30\n",
            "1719/1719 [==============================] - 7s 4ms/step - loss: 0.3641 - accuracy: 0.8669 - val_loss: 0.3495 - val_accuracy: 0.8746\n",
            "Epoch 3/30\n",
            "1719/1719 [==============================] - 7s 4ms/step - loss: 0.3306 - accuracy: 0.8777 - val_loss: 0.3488 - val_accuracy: 0.8770\n",
            "Epoch 4/30\n",
            "1719/1719 [==============================] - 7s 4ms/step - loss: 0.3049 - accuracy: 0.8868 - val_loss: 0.3220 - val_accuracy: 0.8804\n",
            "Epoch 5/30\n",
            "1719/1719 [==============================] - 9s 5ms/step - loss: 0.2883 - accuracy: 0.8935 - val_loss: 0.3029 - val_accuracy: 0.8934\n",
            "Epoch 6/30\n",
            "1719/1719 [==============================] - 10s 6ms/step - loss: 0.2712 - accuracy: 0.8977 - val_loss: 0.3286 - val_accuracy: 0.8816\n",
            "Epoch 7/30\n",
            "1719/1719 [==============================] - 9s 6ms/step - loss: 0.2574 - accuracy: 0.9025 - val_loss: 0.3112 - val_accuracy: 0.8924\n",
            "Epoch 8/30\n",
            "1719/1719 [==============================] - 10s 6ms/step - loss: 0.2490 - accuracy: 0.9067 - val_loss: 0.2998 - val_accuracy: 0.8988\n",
            "Epoch 9/30\n",
            "1719/1719 [==============================] - 9s 5ms/step - loss: 0.2367 - accuracy: 0.9098 - val_loss: 0.2934 - val_accuracy: 0.8942\n",
            "Epoch 10/30\n",
            "1719/1719 [==============================] - 9s 5ms/step - loss: 0.2287 - accuracy: 0.9124 - val_loss: 0.3068 - val_accuracy: 0.8918\n",
            "Epoch 11/30\n",
            "1719/1719 [==============================] - 10s 6ms/step - loss: 0.2175 - accuracy: 0.9164 - val_loss: 0.3060 - val_accuracy: 0.8960\n",
            "Epoch 12/30\n",
            "1719/1719 [==============================] - 10s 6ms/step - loss: 0.2100 - accuracy: 0.9200 - val_loss: 0.3149 - val_accuracy: 0.8964\n",
            "Epoch 13/30\n",
            "1719/1719 [==============================] - 10s 6ms/step - loss: 0.2022 - accuracy: 0.9218 - val_loss: 0.3242 - val_accuracy: 0.8930\n",
            "Epoch 14/30\n",
            "1719/1719 [==============================] - 10s 6ms/step - loss: 0.1971 - accuracy: 0.9249 - val_loss: 0.3077 - val_accuracy: 0.8978\n",
            "Epoch 15/30\n",
            "1719/1719 [==============================] - 10s 6ms/step - loss: 0.1876 - accuracy: 0.9281 - val_loss: 0.3232 - val_accuracy: 0.8942\n",
            "Epoch 16/30\n",
            "1719/1719 [==============================] - 10s 6ms/step - loss: 0.1827 - accuracy: 0.9294 - val_loss: 0.3352 - val_accuracy: 0.8998\n",
            "Epoch 17/30\n",
            "1719/1719 [==============================] - 10s 6ms/step - loss: 0.1762 - accuracy: 0.9319 - val_loss: 0.3791 - val_accuracy: 0.8852\n",
            "Epoch 18/30\n",
            "1719/1719 [==============================] - 10s 6ms/step - loss: 0.1733 - accuracy: 0.9338 - val_loss: 0.3756 - val_accuracy: 0.8932\n",
            "Epoch 19/30\n",
            "1719/1719 [==============================] - 10s 6ms/step - loss: 0.1703 - accuracy: 0.9355 - val_loss: 0.3376 - val_accuracy: 0.9028\n",
            "Epoch 20/30\n",
            "1719/1719 [==============================] - 10s 6ms/step - loss: 0.1592 - accuracy: 0.9389 - val_loss: 0.3616 - val_accuracy: 0.8986\n",
            "Epoch 21/30\n",
            "1719/1719 [==============================] - 10s 6ms/step - loss: 0.1572 - accuracy: 0.9394 - val_loss: 0.3719 - val_accuracy: 0.8932\n",
            "Epoch 22/30\n",
            "1719/1719 [==============================] - 9s 6ms/step - loss: 0.1541 - accuracy: 0.9402 - val_loss: 0.3868 - val_accuracy: 0.8982\n",
            "Epoch 23/30\n",
            "1719/1719 [==============================] - 10s 6ms/step - loss: 0.1478 - accuracy: 0.9425 - val_loss: 0.3730 - val_accuracy: 0.8928\n",
            "Epoch 24/30\n",
            "1719/1719 [==============================] - 10s 6ms/step - loss: 0.1450 - accuracy: 0.9435 - val_loss: 0.3925 - val_accuracy: 0.8980\n",
            "Epoch 25/30\n",
            "1719/1719 [==============================] - 9s 5ms/step - loss: 0.1424 - accuracy: 0.9450 - val_loss: 0.3791 - val_accuracy: 0.8906\n",
            "Epoch 26/30\n",
            "1719/1719 [==============================] - 9s 5ms/step - loss: 0.1356 - accuracy: 0.9483 - val_loss: 0.3872 - val_accuracy: 0.8958\n",
            "Epoch 27/30\n",
            "1719/1719 [==============================] - 10s 6ms/step - loss: 0.1354 - accuracy: 0.9485 - val_loss: 0.4277 - val_accuracy: 0.8886\n",
            "Epoch 28/30\n",
            "1719/1719 [==============================] - 9s 5ms/step - loss: 0.1320 - accuracy: 0.9487 - val_loss: 0.4111 - val_accuracy: 0.8958\n",
            "Epoch 29/30\n",
            "1719/1719 [==============================] - 9s 5ms/step - loss: 0.1278 - accuracy: 0.9510 - val_loss: 0.4276 - val_accuracy: 0.8964\n",
            "Epoch 30/30\n",
            "1719/1719 [==============================] - 9s 5ms/step - loss: 0.1259 - accuracy: 0.9518 - val_loss: 0.4100 - val_accuracy: 0.9028\n"
          ]
        }
      ]
    },
    {
      "cell_type": "code",
      "source": [
        "import pandas as pd\n",
        "import matplotlib.pyplot as plt\n",
        "pd.DataFrame(history.history).plot(figsize=(8, 5))\n",
        "plt.grid(True)\n",
        "plt.gca().set_ylim(0, 1) # set the vertical range to [0-1]\n",
        "plt.show()"
      ],
      "metadata": {
        "colab": {
          "base_uri": "https://localhost:8080/",
          "height": 324
        },
        "id": "k9PngbtwCs4Z",
        "outputId": "2a8c8118-6a49-4736-d192-4999f898c64d"
      },
      "execution_count": null,
      "outputs": [
        {
          "output_type": "display_data",
          "data": {
            "text/plain": [
              "<Figure size 576x360 with 1 Axes>"
            ],
            "image/png": "[encoded data removed]"
          },
          "metadata": {
            "needs_background": "light"
          }
        }
      ]
    },
    {
      "cell_type": "code",
      "source": [
        "model.evaluate(X_test, y_test)"
      ],
      "metadata": {
        "colab": {
          "base_uri": "https://localhost:8080/"
        },
        "id": "cjAuzETbD6Q7",
        "outputId": "b7332374-92b2-430a-a830-1f51d7f8c5f1"
      },
      "execution_count": null,
      "outputs": [
        {
          "output_type": "stream",
          "name": "stdout",
          "text": [
            "313/313 [==============================] - 1s 4ms/step - loss: 101.3886 - accuracy: 0.8693\n"
          ]
        },
        {
          "output_type": "execute_result",
          "data": {
            "text/plain": [
              "[101.38864135742188, 0.8693000078201294]"
            ]
          },
          "metadata": {},
          "execution_count": 52
        }
      ]
    },
    {
      "cell_type": "code",
      "source": [
        "X_new = X_test[:3] \n",
        "y_proba = model.predict(X_new)\n",
        "y_proba.round(2)"
      ],
      "metadata": {
        "colab": {
          "base_uri": "https://localhost:8080/"
        },
        "id": "2KqBiK-XGByp",
        "outputId": "ed6109ac-018b-4626-d03b-fe825425d618"
      },
      "execution_count": null,
      "outputs": [
        {
          "output_type": "execute_result",
          "data": {
            "text/plain": [
              "array([[0., 0., 0., 0., 0., 0., 0., 0., 0., 1.],\n",
              "       [0., 0., 1., 0., 0., 0., 0., 0., 0., 0.],\n",
              "       [0., 1., 0., 0., 0., 0., 0., 0., 0., 0.]], dtype=float32)"
            ]
          },
          "metadata": {},
          "execution_count": 53
        }
      ]
    },
    {
      "cell_type": "code",
      "source": [
        "import numpy as np\n",
        "y_predict = np.argmax(model.predict(X_test), axis=-1)"
      ],
      "metadata": {
        "id": "eAgEbt5oHK9g"
      },
      "execution_count": null,
      "outputs": []
    },
    {
      "cell_type": "code",
      "source": [
        "y_predict"
      ],
      "metadata": {
        "colab": {
          "base_uri": "https://localhost:8080/"
        },
        "id": "-b_LfNPxHTWD",
        "outputId": "f7638d70-9964-44fb-f69b-d0cc6798ee7c"
      },
      "execution_count": null,
      "outputs": [
        {
          "output_type": "execute_result",
          "data": {
            "text/plain": [
              "array([9, 2, 1, ..., 8, 1, 5])"
            ]
          },
          "metadata": {},
          "execution_count": 66
        }
      ]
    },
    {
      "cell_type": "code",
      "source": [
        "np.array(class_names)[y_predict]"
      ],
      "metadata": {
        "id": "oSTcJekaINq2",
        "colab": {
          "base_uri": "https://localhost:8080/"
        },
        "outputId": "c33e4927-2f6b-4de1-b403-6aa327826708"
      },
      "execution_count": null,
      "outputs": [
        {
          "output_type": "execute_result",
          "data": {
            "text/plain": [
              "array(['Ankle boot', 'Pullover', 'Trouser', ..., 'Bag', 'Trouser',\n",
              "       'Sandal'], dtype='<U11')"
            ]
          },
          "metadata": {},
          "execution_count": 67
        }
      ]
    },
    {
      "cell_type": "code",
      "source": [
        "np.array(class_names)[y_test]"
      ],
      "metadata": {
        "colab": {
          "base_uri": "https://localhost:8080/"
        },
        "id": "-mJm5spNQhoa",
        "outputId": "94772d42-7db8-487a-d828-1fce50271b9f"
      },
      "execution_count": null,
      "outputs": [
        {
          "output_type": "execute_result",
          "data": {
            "text/plain": [
              "array(['Ankle boot', 'Pullover', 'Trouser', ..., 'Bag', 'Trouser',\n",
              "       'Sandal'], dtype='<U11')"
            ]
          },
          "metadata": {},
          "execution_count": 68
        }
      ]
    },
    {
      "cell_type": "code",
      "source": [
        ""
      ],
      "metadata": {
        "id": "k7xofTz3RZQS"
      },
      "execution_count": null,
      "outputs": []
    }
  ]
}